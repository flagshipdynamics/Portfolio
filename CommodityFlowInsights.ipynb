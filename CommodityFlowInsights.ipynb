{
 "cells": [
  {
   "cell_type": "markdown",
   "metadata": {},
   "source": [
    "# Machine Learning Portfolio\n",
    "## Unsupervised Learning\n",
    "## Author: Brandon Pippin\n",
    "\n",
    "## Project: Commodity Flow Survey Insights"
   ]
  },
  {
   "cell_type": "markdown",
   "metadata": {},
   "source": [
    "Special Release of an Experimental Data Product\n",
    "(Issued June 15, 2015)\n",
    "\n",
    "The first generation 2012 Commodity Flow Survey (CFS) Public Use Microdata (PUM) file is now available. This new, experimental data product contains information for approximately 4.5 million shipments obtained from businesses included in the 2012 CFS. The PUM file provides access to shipment-level characteristics while continuing to protect the confidentiality of individual business information. PUM file users can create customized tables and build models to track and analyze the movement of commodities.\n",
    "\n",
    "Confidentiality\n",
    "Policies and statistical safeguards ensure that both the records within and any tabulations produced from the 2012 CFS Public Use Microdata file will not identify any individuals or businesses.\n",
    "\n",
    "Methods of preventing disclosure include the extensive review and analysis of the microdata file prior to its release, as well as the use of data suppression, data modification, and noise infusion. Please see the methodology for more information on disclosure avoidance techniques.\n",
    "\n",
    "Contact Information\n",
    "The 2012 CFS PUM file is an experimental data product and the Census Bureau solicits user feedback to continue to enhance its usefulness. If you have any questions or feedback you would like to provide us, please contact the Commodity Flow Branch staff by e-mail at ERD.CFS@census.gov or by phone at (301) 763-2108."
   ]
  },
  {
   "cell_type": "markdown",
   "metadata": {},
   "source": [
    "## Introduction\n",
    "\n",
    "\n",
    "\n",
    "\n"
   ]
  },
  {
   "cell_type": "code",
   "execution_count": 1,
   "metadata": {},
   "outputs": [
    {
     "name": "stdout",
     "output_type": "stream",
     "text": [
      "Commodity Flow dataset has 4547661 samples with 8 features each.\n"
     ]
    }
   ],
   "source": [
    "# Import libraries necessary for this project\n",
    "import numpy as np\n",
    "import pandas as pd\n",
    "from IPython.display import display # Allows the use of display() for DataFrames\n",
    "\n",
    "# Import supplementary visualizations code visuals.py\n",
    "import visuals as vs\n",
    "\n",
    "# Pretty display for notebooks\n",
    "%matplotlib inline\n",
    "\n",
    "# Load the wholesale customers dataset\n",
    "try:\n",
    "    data = pd.read_csv(\"/Users/brandonpippin/Desktop/cfs_2012_pumf_csv.txt\")\n",
    "    #data.drop(['Region', 'Channel'], axis = 1, inplace = True)\n",
    "    print \"Commodity Flow dataset has {} samples with {} features each.\".format(*data.shape)\n",
    "except:\n",
    "    print \"Dataset could not be loaded. Is the dataset missing?\""
   ]
  },
  {
   "cell_type": "markdown",
   "metadata": {},
   "source": [
    "## Data Exploration\n",
    "In this section, you will begin exploring the data through visualizations and code to understand how each feature is related to the others. You will observe a statistical description of the dataset, consider the relevance of each feature, and select a few sample data points from the dataset which you will track through the course of this project.\n",
    "\n",
    "Run the code block below to observe a statistical description of the dataset. "
   ]
  },
  {
   "cell_type": "code",
   "execution_count": 2,
   "metadata": {},
   "outputs": [
    {
     "data": {
      "text/html": [
       "<div>\n",
       "<style scoped>\n",
       "    .dataframe tbody tr th:only-of-type {\n",
       "        vertical-align: middle;\n",
       "    }\n",
       "\n",
       "    .dataframe tbody tr th {\n",
       "        vertical-align: top;\n",
       "    }\n",
       "\n",
       "    .dataframe thead th {\n",
       "        text-align: right;\n",
       "    }\n",
       "</style>\n",
       "<table border=\"1\" class=\"dataframe\">\n",
       "  <thead>\n",
       "    <tr style=\"text-align: right;\">\n",
       "      <th></th>\n",
       "      <th>ORIG_STATE</th>\n",
       "      <th>DEST_STATE</th>\n",
       "      <th>NAICS</th>\n",
       "      <th>QUARTER</th>\n",
       "      <th>MODE</th>\n",
       "      <th>SHIPMT_VALUE</th>\n",
       "      <th>SHIPMT_WGHT</th>\n",
       "      <th>SHIPMT_DIST_GC</th>\n",
       "    </tr>\n",
       "  </thead>\n",
       "  <tbody>\n",
       "    <tr>\n",
       "      <th>count</th>\n",
       "      <td>4.547661e+06</td>\n",
       "      <td>4.547661e+06</td>\n",
       "      <td>4.547661e+06</td>\n",
       "      <td>4.547661e+06</td>\n",
       "      <td>4.547661e+06</td>\n",
       "      <td>4.547661e+06</td>\n",
       "      <td>4.547661e+06</td>\n",
       "      <td>4.547661e+06</td>\n",
       "    </tr>\n",
       "    <tr>\n",
       "      <th>mean</th>\n",
       "      <td>2.910876e+01</td>\n",
       "      <td>2.887889e+01</td>\n",
       "      <td>7.129526e+03</td>\n",
       "      <td>2.445707e+00</td>\n",
       "      <td>7.117038e+00</td>\n",
       "      <td>1.827960e+04</td>\n",
       "      <td>3.758741e+04</td>\n",
       "      <td>3.860863e+02</td>\n",
       "    </tr>\n",
       "    <tr>\n",
       "      <th>std</th>\n",
       "      <td>1.548857e+01</td>\n",
       "      <td>1.567909e+01</td>\n",
       "      <td>4.668010e+04</td>\n",
       "      <td>1.107542e+00</td>\n",
       "      <td>4.273402e+00</td>\n",
       "      <td>1.085257e+06</td>\n",
       "      <td>9.657841e+05</td>\n",
       "      <td>5.746514e+02</td>\n",
       "    </tr>\n",
       "    <tr>\n",
       "      <th>min</th>\n",
       "      <td>0.000000e+00</td>\n",
       "      <td>1.000000e+00</td>\n",
       "      <td>2.120000e+02</td>\n",
       "      <td>1.000000e+00</td>\n",
       "      <td>0.000000e+00</td>\n",
       "      <td>1.000000e+00</td>\n",
       "      <td>1.000000e+00</td>\n",
       "      <td>1.000000e+00</td>\n",
       "    </tr>\n",
       "    <tr>\n",
       "      <th>25%</th>\n",
       "      <td>1.700000e+01</td>\n",
       "      <td>1.700000e+01</td>\n",
       "      <td>3.260000e+02</td>\n",
       "      <td>1.000000e+00</td>\n",
       "      <td>4.000000e+00</td>\n",
       "      <td>1.760000e+02</td>\n",
       "      <td>1.500000e+01</td>\n",
       "      <td>1.700000e+01</td>\n",
       "    </tr>\n",
       "    <tr>\n",
       "      <th>50%</th>\n",
       "      <td>2.900000e+01</td>\n",
       "      <td>2.900000e+01</td>\n",
       "      <td>3.390000e+02</td>\n",
       "      <td>2.000000e+00</td>\n",
       "      <td>5.000000e+00</td>\n",
       "      <td>8.750000e+02</td>\n",
       "      <td>2.700000e+02</td>\n",
       "      <td>1.100000e+02</td>\n",
       "    </tr>\n",
       "    <tr>\n",
       "      <th>75%</th>\n",
       "      <td>4.200000e+01</td>\n",
       "      <td>4.200000e+01</td>\n",
       "      <td>4.241000e+03</td>\n",
       "      <td>3.000000e+00</td>\n",
       "      <td>1.400000e+01</td>\n",
       "      <td>6.026000e+03</td>\n",
       "      <td>8.077000e+03</td>\n",
       "      <td>5.380000e+02</td>\n",
       "    </tr>\n",
       "    <tr>\n",
       "      <th>max</th>\n",
       "      <td>5.600000e+01</td>\n",
       "      <td>5.600000e+01</td>\n",
       "      <td>5.511140e+05</td>\n",
       "      <td>4.000000e+00</td>\n",
       "      <td>1.010000e+02</td>\n",
       "      <td>5.212778e+08</td>\n",
       "      <td>2.770296e+08</td>\n",
       "      <td>5.210000e+03</td>\n",
       "    </tr>\n",
       "  </tbody>\n",
       "</table>\n",
       "</div>"
      ],
      "text/plain": [
       "         ORIG_STATE    DEST_STATE         NAICS       QUARTER          MODE  \\\n",
       "count  4.547661e+06  4.547661e+06  4.547661e+06  4.547661e+06  4.547661e+06   \n",
       "mean   2.910876e+01  2.887889e+01  7.129526e+03  2.445707e+00  7.117038e+00   \n",
       "std    1.548857e+01  1.567909e+01  4.668010e+04  1.107542e+00  4.273402e+00   \n",
       "min    0.000000e+00  1.000000e+00  2.120000e+02  1.000000e+00  0.000000e+00   \n",
       "25%    1.700000e+01  1.700000e+01  3.260000e+02  1.000000e+00  4.000000e+00   \n",
       "50%    2.900000e+01  2.900000e+01  3.390000e+02  2.000000e+00  5.000000e+00   \n",
       "75%    4.200000e+01  4.200000e+01  4.241000e+03  3.000000e+00  1.400000e+01   \n",
       "max    5.600000e+01  5.600000e+01  5.511140e+05  4.000000e+00  1.010000e+02   \n",
       "\n",
       "       SHIPMT_VALUE   SHIPMT_WGHT  SHIPMT_DIST_GC  \n",
       "count  4.547661e+06  4.547661e+06    4.547661e+06  \n",
       "mean   1.827960e+04  3.758741e+04    3.860863e+02  \n",
       "std    1.085257e+06  9.657841e+05    5.746514e+02  \n",
       "min    1.000000e+00  1.000000e+00    1.000000e+00  \n",
       "25%    1.760000e+02  1.500000e+01    1.700000e+01  \n",
       "50%    8.750000e+02  2.700000e+02    1.100000e+02  \n",
       "75%    6.026000e+03  8.077000e+03    5.380000e+02  \n",
       "max    5.212778e+08  2.770296e+08    5.210000e+03  "
      ]
     },
     "metadata": {},
     "output_type": "display_data"
    }
   ],
   "source": [
    "# Display a description of the dataset\n",
    "display(data.describe())"
   ]
  },
  {
   "cell_type": "markdown",
   "metadata": {},
   "source": [
    "### Implementation: Selecting Samples\n",
    "To get a better understanding of the customers and how their data will transform through the analysis, it would be best to select a few sample data points and explore them in more detail. In the code block below, add **three** indices of your choice to the `indices` list which will represent the customers to track. It is suggested to try different sets of samples until you obtain customers that vary significantly from one another."
   ]
  },
  {
   "cell_type": "code",
   "execution_count": 3,
   "metadata": {},
   "outputs": [
    {
     "name": "stdout",
     "output_type": "stream",
     "text": [
      "Chosen samples of wholesale customers dataset:\n"
     ]
    },
    {
     "data": {
      "text/html": [
       "<div>\n",
       "<style scoped>\n",
       "    .dataframe tbody tr th:only-of-type {\n",
       "        vertical-align: middle;\n",
       "    }\n",
       "\n",
       "    .dataframe tbody tr th {\n",
       "        vertical-align: top;\n",
       "    }\n",
       "\n",
       "    .dataframe thead th {\n",
       "        text-align: right;\n",
       "    }\n",
       "</style>\n",
       "<table border=\"1\" class=\"dataframe\">\n",
       "  <thead>\n",
       "    <tr style=\"text-align: right;\">\n",
       "      <th></th>\n",
       "      <th>ORIG_STATE</th>\n",
       "      <th>DEST_STATE</th>\n",
       "      <th>NAICS</th>\n",
       "      <th>QUARTER</th>\n",
       "      <th>MODE</th>\n",
       "      <th>SHIPMT_VALUE</th>\n",
       "      <th>SHIPMT_WGHT</th>\n",
       "      <th>SHIPMT_DIST_GC</th>\n",
       "    </tr>\n",
       "  </thead>\n",
       "  <tbody>\n",
       "    <tr>\n",
       "      <th>0</th>\n",
       "      <td>25</td>\n",
       "      <td>25</td>\n",
       "      <td>333</td>\n",
       "      <td>2</td>\n",
       "      <td>14</td>\n",
       "      <td>2178</td>\n",
       "      <td>11</td>\n",
       "      <td>14</td>\n",
       "    </tr>\n",
       "    <tr>\n",
       "      <th>1</th>\n",
       "      <td>13</td>\n",
       "      <td>47</td>\n",
       "      <td>335</td>\n",
       "      <td>4</td>\n",
       "      <td>4</td>\n",
       "      <td>64566</td>\n",
       "      <td>46196</td>\n",
       "      <td>151</td>\n",
       "    </tr>\n",
       "    <tr>\n",
       "      <th>2</th>\n",
       "      <td>18</td>\n",
       "      <td>18</td>\n",
       "      <td>331</td>\n",
       "      <td>1</td>\n",
       "      <td>4</td>\n",
       "      <td>17515</td>\n",
       "      <td>56073</td>\n",
       "      <td>14</td>\n",
       "    </tr>\n",
       "  </tbody>\n",
       "</table>\n",
       "</div>"
      ],
      "text/plain": [
       "   ORIG_STATE  DEST_STATE  NAICS  QUARTER  MODE  SHIPMT_VALUE  SHIPMT_WGHT  \\\n",
       "0          25          25    333        2    14          2178           11   \n",
       "1          13          47    335        4     4         64566        46196   \n",
       "2          18          18    331        1     4         17515        56073   \n",
       "\n",
       "   SHIPMT_DIST_GC  \n",
       "0              14  \n",
       "1             151  \n",
       "2              14  "
      ]
     },
     "metadata": {},
     "output_type": "display_data"
    }
   ],
   "source": [
    "# TODO: Select three indices of your choice you wish to sample from the dataset\n",
    "indices = [ 0,400,704]\n",
    "\n",
    "# Create a DataFrame of the chosen samples\n",
    "samples = pd.DataFrame(data.loc[indices], columns = data.keys()).reset_index(drop = True)\n",
    "\n",
    "print \"Chosen samples of wholesale customers dataset:\"\n",
    "display(samples)"
   ]
  },
  {
   "cell_type": "markdown",
   "metadata": {},
   "source": [
    "### Question 1\n",
    "Consider the total purchase cost of each product category and the statistical description of the dataset above for your sample customers.  \n",
    "\n",
    "* What kind of commodity could each of the three samples you've chosen represent?\n",
    "\n",
    "\n",
    "\n",
    "\n"
   ]
  },
  {
   "cell_type": "markdown",
   "metadata": {},
   "source": [
    "**Answer:**\n",
    "\n",
    "* What kind of establishment (customer) could each of the three samples you've chosen represent?\n",
    "\n",
    "Sample 0 appears to be \n",
    "Sample 1 appears to be \n",
    "Sample 2 "
   ]
  },
  {
   "cell_type": "code",
   "execution_count": 4,
   "metadata": {},
   "outputs": [
    {
     "data": {
      "text/plain": [
       "<matplotlib.axes._subplots.AxesSubplot at 0x107cac910>"
      ]
     },
     "execution_count": 4,
     "metadata": {},
     "output_type": "execute_result"
    },
    {
     "data": {
      "image/png": "[encoded data removed]",
      "text/plain": [
       "<matplotlib.figure.Figure at 0x107cac550>"
      ]
     },
     "metadata": {},
     "output_type": "display_data"
    }
   ],
   "source": [
    "import seaborn as sns\n",
    "\n",
    "percentiles_data = 100*data.rank(pct=True)\n",
    "percentiles_samples = percentiles_data.iloc[indices]\n",
    "sns.heatmap(percentiles_samples, annot=True)"
   ]
  },
  {
   "cell_type": "markdown",
   "metadata": {},
   "source": [
    "### Implementation: Feature Relevance\n",
    "One interesting thought to consider is if one (or more) of the six product categories is actually relevant for understanding customer purchasing. That is to say, is it possible to determine whether customers purchasing some amount of one category of products will necessarily purchase some proportional amount of another category of products? ***We can make this determination quite easily by training a supervised regression learner on a subset of the data with one feature removed, and then score how well that model can predict the removed feature.***\n",
    "\n",
    "In the code block below, you will need to implement the following:\n",
    " - Assign `new_data` a copy of the data by removing a feature of your choice using the `DataFrame.drop` function.\n",
    " - Use `sklearn.cross_validation.train_test_split` to split the dataset into training and testing sets.\n",
    "   - Use the removed feature as your target label. Set a `test_size` of `0.25` and set a `random_state`.\n",
    " - Import a decision tree regressor, set a `random_state`, and fit the learner to the training data.\n",
    " - Report the prediction score of the testing set using the regressor's `score` function."
   ]
  },
  {
   "cell_type": "code",
   "execution_count": 5,
   "metadata": {},
   "outputs": [
    {
     "data": {
      "text/plain": [
       "array([7.03757821, 4.65921649, 7.03757821, ..., 4.65921649, 4.65921649,\n",
       "       7.07186055])"
      ]
     },
     "metadata": {},
     "output_type": "display_data"
    },
    {
     "name": "stdout",
     "output_type": "stream",
     "text": [
      "score\n"
     ]
    },
    {
     "data": {
      "text/plain": [
       "0.566306780620752"
      ]
     },
     "metadata": {},
     "output_type": "display_data"
    }
   ],
   "source": [
    "# TODO: Make a copy of the DataFrame, using the 'drop' function to drop the given feature\n",
    "# features = samples.drop(['Detergents_Paper'],1)\n",
    "# wildcard = samples['Detergents_Paper']\n",
    "\n",
    "# Post-Review Revised Code\n",
    "\n",
    "features = data.drop(['MODE'],1)\n",
    "wildcard = data['MODE']\n",
    "\n",
    "# TODO: Split the data into training and testing sets(0.25) using the given feature as the target\n",
    "# Set a random state.\n",
    "from sklearn.model_selection import train_test_split\n",
    "X_train, X_test, y_train, y_test = train_test_split(features, wildcard, test_size=0.25, random_state=23)\n",
    "\n",
    "# TODO: Create a decision tree regressor and fit it to the training set\n",
    "from sklearn.tree import DecisionTreeRegressor\n",
    "regressor = DecisionTreeRegressor(max_depth=2, random_state=23)\n",
    "regressor.fit(X_train, y_train)\n",
    "results = regressor.predict(X_test)\n",
    "display(results)\n",
    "# TODO: Report the score of the prediction using the testing set\n",
    "from sklearn.metrics import r2_score\n",
    "score = regressor.score(X_test, y_test)\n",
    "print \"score\"\n",
    "display(score)"
   ]
  },
  {
   "cell_type": "markdown",
   "metadata": {},
   "source": [
    "### Question 2\n",
    "\n",
    "* Which feature did you attempt to predict?\n",
    "1st try: MODE - ie Shipping Transport Type\n",
    "\n",
    "* What was the reported prediction score? \n",
    "1st try: .57\n",
    "\n",
    "\n",
    "\n",
    "**Hint:** The coefficient of determination, `R^2`, is scored between 0 and 1, with 1 being a perfect fit. A negative `R^2` implies the model fails to fit the data. If you get a low score for a particular feature, that lends us to beleive that that feature point is hard to predict using the other features, thereby making it an important feature to consider when considering relevance."
   ]
  },
  {
   "cell_type": "markdown",
   "metadata": {},
   "source": [
    "**Answer:**\n",
    "\n",
    "* Which feature did you attempt to predict?\n",
    "\n",
    "1st try: MODE\n",
    "\n",
    "### 2nd try: Detergents_Paper\n",
    "\n",
    "* What was the reported prediction score? \n",
    "\n",
    "1st try: 0.0\n",
    "\n",
    "### 2nd try: .7257\n",
    "\n",
    "* Is this feature necessary for identifying customers' spending habits?\n",
    "1st try: It seems that this feature is difficult to predict via the other features, but a solid 0.0 has me suspicious of my code.\n",
    "2nd try: A score that hig, .72, tells me it doesn't help in predicting other features.\n",
    "\n",
    "\n"
   ]
  },
  {
   "cell_type": "markdown",
   "metadata": {},
   "source": [
    "### Visualize Feature Distributions\n",
    "To get a better understanding of the dataset, we can construct a scatter matrix of each of the six product features present in the data. If you found that the feature you attempted to predict above is relevant for identifying a specific customer, then the scatter matrix below may not show any correlation between that feature and the others. Conversely, if you believe that feature is not relevant for identifying a specific customer, the scatter matrix might show a correlation between that feature and another feature in the data. Run the code block below to produce a scatter matrix."
   ]
  },
  {
   "cell_type": "code",
   "execution_count": null,
   "metadata": {
    "scrolled": false
   },
   "outputs": [],
   "source": [
    "# Produce a scatter matrix for each pair of features in the data\n",
    "pd.plotting.scatter_matrix(data, alpha = 0.3, figsize = (14,8), diagonal = 'kde');"
   ]
  },
  {
   "cell_type": "markdown",
   "metadata": {},
   "source": [
    "### Question 3\n",
    "* Using the scatter matrix as a reference, discuss the distribution of the dataset, specifically talk about the normality, outliers, large number of data points near 0 among others. If you need to sepearate out some of the plots individually to further accentuate your point, you may do so as well.\n",
    "* Are there any pairs of features which exhibit some degree of correlation? \n",
    "* Does this confirm or deny your suspicions about the relevance of the feature you attempted to predict? \n",
    "* How is the data for those features distributed?\n",
    "\n",
    "**Hint:** Is the data normally distributed? Where do most of the data points lie? You can use [corr()](https://pandas.pydata.org/pandas-docs/stable/generated/pandas.DataFrame.corr.html) to get the feature correlations and then visualize them using a [heatmap](http://seaborn.pydata.org/generated/seaborn.heatmap.html)(the data that would be fed into the heatmap would be the correlation values, for eg: `data.corr()`) to gain further insight."
   ]
  },
  {
   "cell_type": "code",
   "execution_count": null,
   "metadata": {},
   "outputs": [],
   "source": [
    "data.corr()\n",
    "\n",
    "\n",
    "#REVISED POST-REVIEW CODE\n",
    "\n",
    "customHeatmapdata = data.corr()\n",
    "\n",
    "custom_data = 100*customHeatmapdata.rank(pct=True)\n",
    "custom_samples = custom_data\n",
    "sns.heatmap(custom_samples, annot=True)"
   ]
  },
  {
   "cell_type": "markdown",
   "metadata": {},
   "source": [
    "**Answer:**\n",
    "\n",
    "*Are there any pairs of features which exhibit some degree of correlation?*\n",
    "\n",
    "Yes: Milk/Grocery and Detergents_Paper/Grocery appear to be correlated given their tendency to form a line. \n",
    "\n",
    "*Does this confirm or deny your suspicions about the relevance of the feature you attempted to predict?* It denies my suspicion. My 0.0 score is probably faulty, and it could be from lack of preprocessing.\n",
    "\n",
    "*How is the data for those features distributed?*\n",
    "\n",
    "Poorly - that's a good one word answer. The data is 'sucked' into a corner rather than being evenly distributed. Looking at the scatterplot, the culprit becomes clear: Those lonely little outliers siting at the far end and stretching our field of view farther than it needs to be. \n"
   ]
  },
  {
   "cell_type": "markdown",
   "metadata": {},
   "source": [
    "## Data Preprocessing\n",
    "In this section, you will preprocess the data to create a better representation of customers by performing a scaling on the data and detecting (and optionally removing) outliers. Preprocessing data is often times a critical step in assuring that results you obtain from your analysis are significant and meaningful."
   ]
  },
  {
   "cell_type": "markdown",
   "metadata": {},
   "source": [
    "### Implementation: Feature Scaling\n",
    "If data is not normally distributed, especially if the mean and median vary significantly (indicating a large skew), it is most [often appropriate](http://econbrowser.com/archives/2014/02/use-of-logarithms-in-economics) to apply a non-linear scaling — particularly for financial data. One way to achieve this scaling is by using a [Box-Cox test](http://scipy.github.io/devdocs/generated/scipy.stats.boxcox.html), which calculates the best power transformation of the data that reduces skewness. A simpler approach which can work in most cases would be applying the natural logarithm.\n",
    "\n",
    "In the code block below, you will need to implement the following:\n",
    " - Assign a copy of the data to `log_data` after applying logarithmic scaling. Use the `np.log` function for this.\n",
    " - Assign a copy of the sample data to `log_samples` after applying logarithmic scaling. Again, use `np.log`."
   ]
  },
  {
   "cell_type": "code",
   "execution_count": null,
   "metadata": {},
   "outputs": [],
   "source": [
    "# TODO: Scale the data using the natural logarithm\n",
    "log_data = np.log(data)\n",
    "\n",
    "# TODO: Scale the sample data using the natural logarithm\n",
    "log_samples = np.log(samples)\n",
    "\n",
    "# Produce a scatter matrix for each pair of newly-transformed features\n",
    "pd.plotting.scatter_matrix(log_data, alpha = 0.3, figsize = (14,8), diagonal = 'kde');"
   ]
  },
  {
   "cell_type": "markdown",
   "metadata": {},
   "source": [
    "### Observation\n",
    "After applying a natural logarithm scaling to the data, the distribution of each feature should appear much more normal. For any pairs of features you may have identified earlier as being correlated, observe here whether that correlation is still present (and whether it is now stronger or weaker than before).\n",
    "\n",
    "Run the code below to see how the sample data has changed after having the natural logarithm applied to it."
   ]
  },
  {
   "cell_type": "code",
   "execution_count": null,
   "metadata": {},
   "outputs": [],
   "source": [
    "# Display the log-transformed sample data\n",
    "display(log_samples)"
   ]
  },
  {
   "cell_type": "markdown",
   "metadata": {},
   "source": [
    "### Implementation: Outlier Detection\n",
    "Detecting outliers in the data is extremely important in the data preprocessing step of any analysis. The presence of outliers can often skew results which take into consideration these data points. There are many \"rules of thumb\" for what constitutes an outlier in a dataset. Here, we will use [Tukey's Method for identfying outliers](http://datapigtechnologies.com/blog/index.php/highlighting-outliers-in-your-data-with-the-tukey-method/): An *outlier step* is calculated as 1.5 times the interquartile range (IQR). A data point with a feature that is beyond an outlier step outside of the IQR for that feature is considered abnormal.\n",
    "\n",
    "In the code block below, you will need to implement the following:\n",
    " - Assign the value of the 25th percentile for the given feature to `Q1`. Use `np.percentile` for this.\n",
    " - Assign the value of the 75th percentile for the given feature to `Q3`. Again, use `np.percentile`.\n",
    " - Assign the calculation of an outlier step for the given feature to `step`.\n",
    " - Optionally remove data points from the dataset by adding indices to the `outliers` list.\n",
    "\n",
    "**NOTE:** If you choose to remove any outliers, ensure that the sample data does not contain any of these points!  \n",
    "Once you have performed this implementation, the dataset will be stored in the variable `good_data`."
   ]
  },
  {
   "cell_type": "code",
   "execution_count": 114,
   "metadata": {
    "scrolled": false
   },
   "outputs": [
    {
     "name": "stdout",
     "output_type": "stream",
     "text": [
      "Data points considered outliers for the feature 'Fresh':\n"
     ]
    },
    {
     "data": {
      "text/html": [
       "<div>\n",
       "<style>\n",
       "    .dataframe thead tr:only-child th {\n",
       "        text-align: right;\n",
       "    }\n",
       "\n",
       "    .dataframe thead th {\n",
       "        text-align: left;\n",
       "    }\n",
       "\n",
       "    .dataframe tbody tr th {\n",
       "        vertical-align: top;\n",
       "    }\n",
       "</style>\n",
       "<table border=\"1\" class=\"dataframe\">\n",
       "  <thead>\n",
       "    <tr style=\"text-align: right;\">\n",
       "      <th></th>\n",
       "      <th>Fresh</th>\n",
       "      <th>Milk</th>\n",
       "      <th>Grocery</th>\n",
       "      <th>Frozen</th>\n",
       "      <th>Detergents_Paper</th>\n",
       "      <th>Delicatessen</th>\n",
       "    </tr>\n",
       "  </thead>\n",
       "  <tbody>\n",
       "    <tr>\n",
       "      <th>65</th>\n",
       "      <td>4.442651</td>\n",
       "      <td>9.950323</td>\n",
       "      <td>10.732651</td>\n",
       "      <td>3.583519</td>\n",
       "      <td>10.095388</td>\n",
       "      <td>7.260523</td>\n",
       "    </tr>\n",
       "    <tr>\n",
       "      <th>66</th>\n",
       "      <td>2.197225</td>\n",
       "      <td>7.335634</td>\n",
       "      <td>8.911530</td>\n",
       "      <td>5.164786</td>\n",
       "      <td>8.151333</td>\n",
       "      <td>3.295837</td>\n",
       "    </tr>\n",
       "    <tr>\n",
       "      <th>81</th>\n",
       "      <td>5.389072</td>\n",
       "      <td>9.163249</td>\n",
       "      <td>9.575192</td>\n",
       "      <td>5.645447</td>\n",
       "      <td>8.964184</td>\n",
       "      <td>5.049856</td>\n",
       "    </tr>\n",
       "    <tr>\n",
       "      <th>95</th>\n",
       "      <td>1.098612</td>\n",
       "      <td>7.979339</td>\n",
       "      <td>8.740657</td>\n",
       "      <td>6.086775</td>\n",
       "      <td>5.407172</td>\n",
       "      <td>6.563856</td>\n",
       "    </tr>\n",
       "    <tr>\n",
       "      <th>96</th>\n",
       "      <td>3.135494</td>\n",
       "      <td>7.869402</td>\n",
       "      <td>9.001839</td>\n",
       "      <td>4.976734</td>\n",
       "      <td>8.262043</td>\n",
       "      <td>5.379897</td>\n",
       "    </tr>\n",
       "    <tr>\n",
       "      <th>128</th>\n",
       "      <td>4.941642</td>\n",
       "      <td>9.087834</td>\n",
       "      <td>8.248791</td>\n",
       "      <td>4.955827</td>\n",
       "      <td>6.967909</td>\n",
       "      <td>1.098612</td>\n",
       "    </tr>\n",
       "    <tr>\n",
       "      <th>171</th>\n",
       "      <td>5.298317</td>\n",
       "      <td>10.160530</td>\n",
       "      <td>9.894245</td>\n",
       "      <td>6.478510</td>\n",
       "      <td>9.079434</td>\n",
       "      <td>8.740337</td>\n",
       "    </tr>\n",
       "    <tr>\n",
       "      <th>193</th>\n",
       "      <td>5.192957</td>\n",
       "      <td>8.156223</td>\n",
       "      <td>9.917982</td>\n",
       "      <td>6.865891</td>\n",
       "      <td>8.633731</td>\n",
       "      <td>6.501290</td>\n",
       "    </tr>\n",
       "    <tr>\n",
       "      <th>218</th>\n",
       "      <td>2.890372</td>\n",
       "      <td>8.923191</td>\n",
       "      <td>9.629380</td>\n",
       "      <td>7.158514</td>\n",
       "      <td>8.475746</td>\n",
       "      <td>8.759669</td>\n",
       "    </tr>\n",
       "    <tr>\n",
       "      <th>304</th>\n",
       "      <td>5.081404</td>\n",
       "      <td>8.917311</td>\n",
       "      <td>10.117510</td>\n",
       "      <td>6.424869</td>\n",
       "      <td>9.374413</td>\n",
       "      <td>7.787382</td>\n",
       "    </tr>\n",
       "    <tr>\n",
       "      <th>305</th>\n",
       "      <td>5.493061</td>\n",
       "      <td>9.468001</td>\n",
       "      <td>9.088399</td>\n",
       "      <td>6.683361</td>\n",
       "      <td>8.271037</td>\n",
       "      <td>5.351858</td>\n",
       "    </tr>\n",
       "    <tr>\n",
       "      <th>338</th>\n",
       "      <td>1.098612</td>\n",
       "      <td>5.808142</td>\n",
       "      <td>8.856661</td>\n",
       "      <td>9.655090</td>\n",
       "      <td>2.708050</td>\n",
       "      <td>6.309918</td>\n",
       "    </tr>\n",
       "    <tr>\n",
       "      <th>353</th>\n",
       "      <td>4.762174</td>\n",
       "      <td>8.742574</td>\n",
       "      <td>9.961898</td>\n",
       "      <td>5.429346</td>\n",
       "      <td>9.069007</td>\n",
       "      <td>7.013016</td>\n",
       "    </tr>\n",
       "    <tr>\n",
       "      <th>355</th>\n",
       "      <td>5.247024</td>\n",
       "      <td>6.588926</td>\n",
       "      <td>7.606885</td>\n",
       "      <td>5.501258</td>\n",
       "      <td>5.214936</td>\n",
       "      <td>4.844187</td>\n",
       "    </tr>\n",
       "    <tr>\n",
       "      <th>357</th>\n",
       "      <td>3.610918</td>\n",
       "      <td>7.150701</td>\n",
       "      <td>10.011086</td>\n",
       "      <td>4.919981</td>\n",
       "      <td>8.816853</td>\n",
       "      <td>4.700480</td>\n",
       "    </tr>\n",
       "    <tr>\n",
       "      <th>412</th>\n",
       "      <td>4.574711</td>\n",
       "      <td>8.190077</td>\n",
       "      <td>9.425452</td>\n",
       "      <td>4.584967</td>\n",
       "      <td>7.996317</td>\n",
       "      <td>4.127134</td>\n",
       "    </tr>\n",
       "  </tbody>\n",
       "</table>\n",
       "</div>"
      ],
      "text/plain": [
       "        Fresh       Milk    Grocery    Frozen  Detergents_Paper  Delicatessen\n",
       "65   4.442651   9.950323  10.732651  3.583519         10.095388      7.260523\n",
       "66   2.197225   7.335634   8.911530  5.164786          8.151333      3.295837\n",
       "81   5.389072   9.163249   9.575192  5.645447          8.964184      5.049856\n",
       "95   1.098612   7.979339   8.740657  6.086775          5.407172      6.563856\n",
       "96   3.135494   7.869402   9.001839  4.976734          8.262043      5.379897\n",
       "128  4.941642   9.087834   8.248791  4.955827          6.967909      1.098612\n",
       "171  5.298317  10.160530   9.894245  6.478510          9.079434      8.740337\n",
       "193  5.192957   8.156223   9.917982  6.865891          8.633731      6.501290\n",
       "218  2.890372   8.923191   9.629380  7.158514          8.475746      8.759669\n",
       "304  5.081404   8.917311  10.117510  6.424869          9.374413      7.787382\n",
       "305  5.493061   9.468001   9.088399  6.683361          8.271037      5.351858\n",
       "338  1.098612   5.808142   8.856661  9.655090          2.708050      6.309918\n",
       "353  4.762174   8.742574   9.961898  5.429346          9.069007      7.013016\n",
       "355  5.247024   6.588926   7.606885  5.501258          5.214936      4.844187\n",
       "357  3.610918   7.150701  10.011086  4.919981          8.816853      4.700480\n",
       "412  4.574711   8.190077   9.425452  4.584967          7.996317      4.127134"
      ]
     },
     "metadata": {},
     "output_type": "display_data"
    },
    {
     "name": "stdout",
     "output_type": "stream",
     "text": [
      "Data points considered outliers for the feature 'Milk':\n"
     ]
    },
    {
     "data": {
      "text/html": [
       "<div>\n",
       "<style>\n",
       "    .dataframe thead tr:only-child th {\n",
       "        text-align: right;\n",
       "    }\n",
       "\n",
       "    .dataframe thead th {\n",
       "        text-align: left;\n",
       "    }\n",
       "\n",
       "    .dataframe tbody tr th {\n",
       "        vertical-align: top;\n",
       "    }\n",
       "</style>\n",
       "<table border=\"1\" class=\"dataframe\">\n",
       "  <thead>\n",
       "    <tr style=\"text-align: right;\">\n",
       "      <th></th>\n",
       "      <th>Fresh</th>\n",
       "      <th>Milk</th>\n",
       "      <th>Grocery</th>\n",
       "      <th>Frozen</th>\n",
       "      <th>Detergents_Paper</th>\n",
       "      <th>Delicatessen</th>\n",
       "    </tr>\n",
       "  </thead>\n",
       "  <tbody>\n",
       "    <tr>\n",
       "      <th>86</th>\n",
       "      <td>10.039983</td>\n",
       "      <td>11.205013</td>\n",
       "      <td>10.377047</td>\n",
       "      <td>6.894670</td>\n",
       "      <td>9.906981</td>\n",
       "      <td>6.805723</td>\n",
       "    </tr>\n",
       "    <tr>\n",
       "      <th>98</th>\n",
       "      <td>6.220590</td>\n",
       "      <td>4.718499</td>\n",
       "      <td>6.656727</td>\n",
       "      <td>6.796824</td>\n",
       "      <td>4.025352</td>\n",
       "      <td>4.882802</td>\n",
       "    </tr>\n",
       "    <tr>\n",
       "      <th>154</th>\n",
       "      <td>6.432940</td>\n",
       "      <td>4.007333</td>\n",
       "      <td>4.919981</td>\n",
       "      <td>4.317488</td>\n",
       "      <td>1.945910</td>\n",
       "      <td>2.079442</td>\n",
       "    </tr>\n",
       "    <tr>\n",
       "      <th>356</th>\n",
       "      <td>10.029503</td>\n",
       "      <td>4.897840</td>\n",
       "      <td>5.384495</td>\n",
       "      <td>8.057377</td>\n",
       "      <td>2.197225</td>\n",
       "      <td>6.306275</td>\n",
       "    </tr>\n",
       "  </tbody>\n",
       "</table>\n",
       "</div>"
      ],
      "text/plain": [
       "         Fresh       Milk    Grocery    Frozen  Detergents_Paper  Delicatessen\n",
       "86   10.039983  11.205013  10.377047  6.894670          9.906981      6.805723\n",
       "98    6.220590   4.718499   6.656727  6.796824          4.025352      4.882802\n",
       "154   6.432940   4.007333   4.919981  4.317488          1.945910      2.079442\n",
       "356  10.029503   4.897840   5.384495  8.057377          2.197225      6.306275"
      ]
     },
     "metadata": {},
     "output_type": "display_data"
    },
    {
     "name": "stdout",
     "output_type": "stream",
     "text": [
      "Data points considered outliers for the feature 'Grocery':\n"
     ]
    },
    {
     "data": {
      "text/html": [
       "<div>\n",
       "<style>\n",
       "    .dataframe thead tr:only-child th {\n",
       "        text-align: right;\n",
       "    }\n",
       "\n",
       "    .dataframe thead th {\n",
       "        text-align: left;\n",
       "    }\n",
       "\n",
       "    .dataframe tbody tr th {\n",
       "        vertical-align: top;\n",
       "    }\n",
       "</style>\n",
       "<table border=\"1\" class=\"dataframe\">\n",
       "  <thead>\n",
       "    <tr style=\"text-align: right;\">\n",
       "      <th></th>\n",
       "      <th>Fresh</th>\n",
       "      <th>Milk</th>\n",
       "      <th>Grocery</th>\n",
       "      <th>Frozen</th>\n",
       "      <th>Detergents_Paper</th>\n",
       "      <th>Delicatessen</th>\n",
       "    </tr>\n",
       "  </thead>\n",
       "  <tbody>\n",
       "    <tr>\n",
       "      <th>75</th>\n",
       "      <td>9.923192</td>\n",
       "      <td>7.036148</td>\n",
       "      <td>1.098612</td>\n",
       "      <td>8.390949</td>\n",
       "      <td>1.098612</td>\n",
       "      <td>6.882437</td>\n",
       "    </tr>\n",
       "    <tr>\n",
       "      <th>154</th>\n",
       "      <td>6.432940</td>\n",
       "      <td>4.007333</td>\n",
       "      <td>4.919981</td>\n",
       "      <td>4.317488</td>\n",
       "      <td>1.945910</td>\n",
       "      <td>2.079442</td>\n",
       "    </tr>\n",
       "  </tbody>\n",
       "</table>\n",
       "</div>"
      ],
      "text/plain": [
       "        Fresh      Milk   Grocery    Frozen  Detergents_Paper  Delicatessen\n",
       "75   9.923192  7.036148  1.098612  8.390949          1.098612      6.882437\n",
       "154  6.432940  4.007333  4.919981  4.317488          1.945910      2.079442"
      ]
     },
     "metadata": {},
     "output_type": "display_data"
    },
    {
     "name": "stdout",
     "output_type": "stream",
     "text": [
      "Data points considered outliers for the feature 'Frozen':\n"
     ]
    },
    {
     "data": {
      "text/html": [
       "<div>\n",
       "<style>\n",
       "    .dataframe thead tr:only-child th {\n",
       "        text-align: right;\n",
       "    }\n",
       "\n",
       "    .dataframe thead th {\n",
       "        text-align: left;\n",
       "    }\n",
       "\n",
       "    .dataframe tbody tr th {\n",
       "        vertical-align: top;\n",
       "    }\n",
       "</style>\n",
       "<table border=\"1\" class=\"dataframe\">\n",
       "  <thead>\n",
       "    <tr style=\"text-align: right;\">\n",
       "      <th></th>\n",
       "      <th>Fresh</th>\n",
       "      <th>Milk</th>\n",
       "      <th>Grocery</th>\n",
       "      <th>Frozen</th>\n",
       "      <th>Detergents_Paper</th>\n",
       "      <th>Delicatessen</th>\n",
       "    </tr>\n",
       "  </thead>\n",
       "  <tbody>\n",
       "    <tr>\n",
       "      <th>38</th>\n",
       "      <td>8.431853</td>\n",
       "      <td>9.663261</td>\n",
       "      <td>9.723703</td>\n",
       "      <td>3.496508</td>\n",
       "      <td>8.847360</td>\n",
       "      <td>6.070738</td>\n",
       "    </tr>\n",
       "    <tr>\n",
       "      <th>57</th>\n",
       "      <td>8.597297</td>\n",
       "      <td>9.203618</td>\n",
       "      <td>9.257892</td>\n",
       "      <td>3.637586</td>\n",
       "      <td>8.932213</td>\n",
       "      <td>7.156177</td>\n",
       "    </tr>\n",
       "    <tr>\n",
       "      <th>65</th>\n",
       "      <td>4.442651</td>\n",
       "      <td>9.950323</td>\n",
       "      <td>10.732651</td>\n",
       "      <td>3.583519</td>\n",
       "      <td>10.095388</td>\n",
       "      <td>7.260523</td>\n",
       "    </tr>\n",
       "    <tr>\n",
       "      <th>145</th>\n",
       "      <td>10.000569</td>\n",
       "      <td>9.034080</td>\n",
       "      <td>10.457143</td>\n",
       "      <td>3.737670</td>\n",
       "      <td>9.440738</td>\n",
       "      <td>8.396155</td>\n",
       "    </tr>\n",
       "    <tr>\n",
       "      <th>175</th>\n",
       "      <td>7.759187</td>\n",
       "      <td>8.967632</td>\n",
       "      <td>9.382106</td>\n",
       "      <td>3.951244</td>\n",
       "      <td>8.341887</td>\n",
       "      <td>7.436617</td>\n",
       "    </tr>\n",
       "    <tr>\n",
       "      <th>264</th>\n",
       "      <td>6.978214</td>\n",
       "      <td>9.177714</td>\n",
       "      <td>9.645041</td>\n",
       "      <td>4.110874</td>\n",
       "      <td>8.696176</td>\n",
       "      <td>7.142827</td>\n",
       "    </tr>\n",
       "    <tr>\n",
       "      <th>325</th>\n",
       "      <td>10.395650</td>\n",
       "      <td>9.728181</td>\n",
       "      <td>9.519735</td>\n",
       "      <td>11.016479</td>\n",
       "      <td>7.148346</td>\n",
       "      <td>8.632128</td>\n",
       "    </tr>\n",
       "    <tr>\n",
       "      <th>420</th>\n",
       "      <td>8.402007</td>\n",
       "      <td>8.569026</td>\n",
       "      <td>9.490015</td>\n",
       "      <td>3.218876</td>\n",
       "      <td>8.827321</td>\n",
       "      <td>7.239215</td>\n",
       "    </tr>\n",
       "    <tr>\n",
       "      <th>429</th>\n",
       "      <td>9.060331</td>\n",
       "      <td>7.467371</td>\n",
       "      <td>8.183118</td>\n",
       "      <td>3.850148</td>\n",
       "      <td>4.430817</td>\n",
       "      <td>7.824446</td>\n",
       "    </tr>\n",
       "    <tr>\n",
       "      <th>439</th>\n",
       "      <td>7.932721</td>\n",
       "      <td>7.437206</td>\n",
       "      <td>7.828038</td>\n",
       "      <td>4.174387</td>\n",
       "      <td>6.167516</td>\n",
       "      <td>3.951244</td>\n",
       "    </tr>\n",
       "  </tbody>\n",
       "</table>\n",
       "</div>"
      ],
      "text/plain": [
       "         Fresh      Milk    Grocery     Frozen  Detergents_Paper  Delicatessen\n",
       "38    8.431853  9.663261   9.723703   3.496508          8.847360      6.070738\n",
       "57    8.597297  9.203618   9.257892   3.637586          8.932213      7.156177\n",
       "65    4.442651  9.950323  10.732651   3.583519         10.095388      7.260523\n",
       "145  10.000569  9.034080  10.457143   3.737670          9.440738      8.396155\n",
       "175   7.759187  8.967632   9.382106   3.951244          8.341887      7.436617\n",
       "264   6.978214  9.177714   9.645041   4.110874          8.696176      7.142827\n",
       "325  10.395650  9.728181   9.519735  11.016479          7.148346      8.632128\n",
       "420   8.402007  8.569026   9.490015   3.218876          8.827321      7.239215\n",
       "429   9.060331  7.467371   8.183118   3.850148          4.430817      7.824446\n",
       "439   7.932721  7.437206   7.828038   4.174387          6.167516      3.951244"
      ]
     },
     "metadata": {},
     "output_type": "display_data"
    },
    {
     "name": "stdout",
     "output_type": "stream",
     "text": [
      "Data points considered outliers for the feature 'Detergents_Paper':\n"
     ]
    },
    {
     "data": {
      "text/html": [
       "<div>\n",
       "<style>\n",
       "    .dataframe thead tr:only-child th {\n",
       "        text-align: right;\n",
       "    }\n",
       "\n",
       "    .dataframe thead th {\n",
       "        text-align: left;\n",
       "    }\n",
       "\n",
       "    .dataframe tbody tr th {\n",
       "        vertical-align: top;\n",
       "    }\n",
       "</style>\n",
       "<table border=\"1\" class=\"dataframe\">\n",
       "  <thead>\n",
       "    <tr style=\"text-align: right;\">\n",
       "      <th></th>\n",
       "      <th>Fresh</th>\n",
       "      <th>Milk</th>\n",
       "      <th>Grocery</th>\n",
       "      <th>Frozen</th>\n",
       "      <th>Detergents_Paper</th>\n",
       "      <th>Delicatessen</th>\n",
       "    </tr>\n",
       "  </thead>\n",
       "  <tbody>\n",
       "    <tr>\n",
       "      <th>75</th>\n",
       "      <td>9.923192</td>\n",
       "      <td>7.036148</td>\n",
       "      <td>1.098612</td>\n",
       "      <td>8.390949</td>\n",
       "      <td>1.098612</td>\n",
       "      <td>6.882437</td>\n",
       "    </tr>\n",
       "    <tr>\n",
       "      <th>161</th>\n",
       "      <td>9.428190</td>\n",
       "      <td>6.291569</td>\n",
       "      <td>5.645447</td>\n",
       "      <td>6.995766</td>\n",
       "      <td>1.098612</td>\n",
       "      <td>7.711101</td>\n",
       "    </tr>\n",
       "  </tbody>\n",
       "</table>\n",
       "</div>"
      ],
      "text/plain": [
       "        Fresh      Milk   Grocery    Frozen  Detergents_Paper  Delicatessen\n",
       "75   9.923192  7.036148  1.098612  8.390949          1.098612      6.882437\n",
       "161  9.428190  6.291569  5.645447  6.995766          1.098612      7.711101"
      ]
     },
     "metadata": {},
     "output_type": "display_data"
    },
    {
     "name": "stdout",
     "output_type": "stream",
     "text": [
      "Data points considered outliers for the feature 'Delicatessen':\n"
     ]
    },
    {
     "data": {
      "text/html": [
       "<div>\n",
       "<style>\n",
       "    .dataframe thead tr:only-child th {\n",
       "        text-align: right;\n",
       "    }\n",
       "\n",
       "    .dataframe thead th {\n",
       "        text-align: left;\n",
       "    }\n",
       "\n",
       "    .dataframe tbody tr th {\n",
       "        vertical-align: top;\n",
       "    }\n",
       "</style>\n",
       "<table border=\"1\" class=\"dataframe\">\n",
       "  <thead>\n",
       "    <tr style=\"text-align: right;\">\n",
       "      <th></th>\n",
       "      <th>Fresh</th>\n",
       "      <th>Milk</th>\n",
       "      <th>Grocery</th>\n",
       "      <th>Frozen</th>\n",
       "      <th>Detergents_Paper</th>\n",
       "      <th>Delicatessen</th>\n",
       "    </tr>\n",
       "  </thead>\n",
       "  <tbody>\n",
       "    <tr>\n",
       "      <th>66</th>\n",
       "      <td>2.197225</td>\n",
       "      <td>7.335634</td>\n",
       "      <td>8.911530</td>\n",
       "      <td>5.164786</td>\n",
       "      <td>8.151333</td>\n",
       "      <td>3.295837</td>\n",
       "    </tr>\n",
       "    <tr>\n",
       "      <th>109</th>\n",
       "      <td>7.248504</td>\n",
       "      <td>9.724899</td>\n",
       "      <td>10.274568</td>\n",
       "      <td>6.511745</td>\n",
       "      <td>6.728629</td>\n",
       "      <td>1.098612</td>\n",
       "    </tr>\n",
       "    <tr>\n",
       "      <th>128</th>\n",
       "      <td>4.941642</td>\n",
       "      <td>9.087834</td>\n",
       "      <td>8.248791</td>\n",
       "      <td>4.955827</td>\n",
       "      <td>6.967909</td>\n",
       "      <td>1.098612</td>\n",
       "    </tr>\n",
       "    <tr>\n",
       "      <th>137</th>\n",
       "      <td>8.034955</td>\n",
       "      <td>8.997147</td>\n",
       "      <td>9.021840</td>\n",
       "      <td>6.493754</td>\n",
       "      <td>6.580639</td>\n",
       "      <td>3.583519</td>\n",
       "    </tr>\n",
       "    <tr>\n",
       "      <th>142</th>\n",
       "      <td>10.519646</td>\n",
       "      <td>8.875147</td>\n",
       "      <td>9.018332</td>\n",
       "      <td>8.004700</td>\n",
       "      <td>2.995732</td>\n",
       "      <td>1.098612</td>\n",
       "    </tr>\n",
       "    <tr>\n",
       "      <th>154</th>\n",
       "      <td>6.432940</td>\n",
       "      <td>4.007333</td>\n",
       "      <td>4.919981</td>\n",
       "      <td>4.317488</td>\n",
       "      <td>1.945910</td>\n",
       "      <td>2.079442</td>\n",
       "    </tr>\n",
       "    <tr>\n",
       "      <th>183</th>\n",
       "      <td>10.514529</td>\n",
       "      <td>10.690808</td>\n",
       "      <td>9.911952</td>\n",
       "      <td>10.505999</td>\n",
       "      <td>5.476464</td>\n",
       "      <td>10.777768</td>\n",
       "    </tr>\n",
       "    <tr>\n",
       "      <th>184</th>\n",
       "      <td>5.789960</td>\n",
       "      <td>6.822197</td>\n",
       "      <td>8.457443</td>\n",
       "      <td>4.304065</td>\n",
       "      <td>5.811141</td>\n",
       "      <td>2.397895</td>\n",
       "    </tr>\n",
       "    <tr>\n",
       "      <th>187</th>\n",
       "      <td>7.798933</td>\n",
       "      <td>8.987447</td>\n",
       "      <td>9.192075</td>\n",
       "      <td>8.743372</td>\n",
       "      <td>8.148735</td>\n",
       "      <td>1.098612</td>\n",
       "    </tr>\n",
       "    <tr>\n",
       "      <th>203</th>\n",
       "      <td>6.368187</td>\n",
       "      <td>6.529419</td>\n",
       "      <td>7.703459</td>\n",
       "      <td>6.150603</td>\n",
       "      <td>6.860664</td>\n",
       "      <td>2.890372</td>\n",
       "    </tr>\n",
       "    <tr>\n",
       "      <th>233</th>\n",
       "      <td>6.871091</td>\n",
       "      <td>8.513988</td>\n",
       "      <td>8.106515</td>\n",
       "      <td>6.842683</td>\n",
       "      <td>6.013715</td>\n",
       "      <td>1.945910</td>\n",
       "    </tr>\n",
       "    <tr>\n",
       "      <th>285</th>\n",
       "      <td>10.602965</td>\n",
       "      <td>6.461468</td>\n",
       "      <td>8.188689</td>\n",
       "      <td>6.948897</td>\n",
       "      <td>6.077642</td>\n",
       "      <td>2.890372</td>\n",
       "    </tr>\n",
       "    <tr>\n",
       "      <th>289</th>\n",
       "      <td>10.663966</td>\n",
       "      <td>5.655992</td>\n",
       "      <td>6.154858</td>\n",
       "      <td>7.235619</td>\n",
       "      <td>3.465736</td>\n",
       "      <td>3.091042</td>\n",
       "    </tr>\n",
       "    <tr>\n",
       "      <th>343</th>\n",
       "      <td>7.431892</td>\n",
       "      <td>8.848509</td>\n",
       "      <td>10.177932</td>\n",
       "      <td>7.283448</td>\n",
       "      <td>9.646593</td>\n",
       "      <td>3.610918</td>\n",
       "    </tr>\n",
       "  </tbody>\n",
       "</table>\n",
       "</div>"
      ],
      "text/plain": [
       "         Fresh       Milk    Grocery     Frozen  Detergents_Paper  \\\n",
       "66    2.197225   7.335634   8.911530   5.164786          8.151333   \n",
       "109   7.248504   9.724899  10.274568   6.511745          6.728629   \n",
       "128   4.941642   9.087834   8.248791   4.955827          6.967909   \n",
       "137   8.034955   8.997147   9.021840   6.493754          6.580639   \n",
       "142  10.519646   8.875147   9.018332   8.004700          2.995732   \n",
       "154   6.432940   4.007333   4.919981   4.317488          1.945910   \n",
       "183  10.514529  10.690808   9.911952  10.505999          5.476464   \n",
       "184   5.789960   6.822197   8.457443   4.304065          5.811141   \n",
       "187   7.798933   8.987447   9.192075   8.743372          8.148735   \n",
       "203   6.368187   6.529419   7.703459   6.150603          6.860664   \n",
       "233   6.871091   8.513988   8.106515   6.842683          6.013715   \n",
       "285  10.602965   6.461468   8.188689   6.948897          6.077642   \n",
       "289  10.663966   5.655992   6.154858   7.235619          3.465736   \n",
       "343   7.431892   8.848509  10.177932   7.283448          9.646593   \n",
       "\n",
       "     Delicatessen  \n",
       "66       3.295837  \n",
       "109      1.098612  \n",
       "128      1.098612  \n",
       "137      3.583519  \n",
       "142      1.098612  \n",
       "154      2.079442  \n",
       "183     10.777768  \n",
       "184      2.397895  \n",
       "187      1.098612  \n",
       "203      2.890372  \n",
       "233      1.945910  \n",
       "285      2.890372  \n",
       "289      3.091042  \n",
       "343      3.610918  "
      ]
     },
     "metadata": {},
     "output_type": "display_data"
    }
   ],
   "source": [
    "# For each feature find the data points with extreme high or low values\n",
    "for feature in log_data.keys():\n",
    "    \n",
    "    # TODO: Calculate Q1 (25th percentile of the data) for the given feature\n",
    "    Q1 = np.percentile(log_data[feature],25)\n",
    "    \n",
    "    # TODO: Calculate Q3 (75th percentile of the data) for the given feature\n",
    "    Q3 = np.percentile(log_data[feature],75)\n",
    "    \n",
    "    # POST-REVIEW\n",
    "    # I used the feedback to directly reference the feature upon which\n",
    "    # we are iterating in the code above.\n",
    "    # Still having trouble getting 42 Tukey outliers in total.\n",
    "    \n",
    "    # TODO: Use the interquartile range to calculate an outlier step (1.5 times the interquartile range)\n",
    "    \n",
    "    # POST-REVIEW CORRECTED STEP CALC\n",
    "    step = 1.5*(Q3 - Q1)\n",
    "    # The code below is from link below, and inspired my answer.\n",
    "    # https://stackoverflow.com/questions/23228244/how-do-you-find-the-iqr-in-numpy\n",
    "    # q75, q25 = np.percentile(x, [75 ,25])\n",
    "    # iqr = q75 - q25\n",
    "    # Display the outliers\n",
    "    print \"Data points considered outliers for the feature '{}':\".format(feature)\n",
    "    display(log_data[~((log_data[feature] >= Q1 - step) & (log_data[feature] <= Q3 + step))])\n",
    "    \n",
    "# OPTIONAL: Select the indices for data points you wish to remove\n",
    "# outliers  = [154,97,429]\n",
    "\n",
    "# Remove the outliers, if any were specified\n",
    "good_data = log_data.drop(log_data.index[outliers]).reset_index(drop = True)"
   ]
  },
  {
   "cell_type": "markdown",
   "metadata": {},
   "source": [
    "### Question 4\n",
    "* Are there any data points considered outliers for more than one feature based on the definition above? \n",
    "* Should these data points be removed from the dataset? \n",
    "* If any data points were added to the `outliers` list to be removed, explain why.\n",
    "\n",
    "** Hint: ** If you have datapoints that are outliers in multiple categories think about why that may be and if they warrant removal. Also note how k-means is affected by outliers and whether or not this plays a factor in your analysis of whether or not to remove them."
   ]
  },
  {
   "cell_type": "markdown",
   "metadata": {},
   "source": [
    "**Answer:**\n",
    "\n",
    "* Are there any data points considered outliers for more than one feature based on the definition above? \n",
    "\n",
    "*Yes! I counted 154 on the outlier list for 4 features. 97 & 429 are on the list for 2 features.\n",
    "\n",
    "## **Post Review Answer**\n",
    "I should find 5 multi-feature outliers:\n",
    "154 is on the list for 3 features still.\n",
    "75 is on the list for 2 features.\n",
    "\n",
    "\n",
    "* Should these data points be removed from the dataset? \n",
    "\n",
    "*Absolutely.\n",
    "* If any data points were added to the `outliers` list to be removed, explain why.\n",
    "\n",
    "*1st try: 154,429 and 97 were removed because they were outliers for at least two features.\n",
    "\n",
    "### *2nd try: 154,75 are the only multifeature outliers I could find, and I have more outliers than I think I should. Definitely need feedback on this."
   ]
  },
  {
   "cell_type": "markdown",
   "metadata": {},
   "source": [
    "## Feature Transformation\n",
    "In this section you will use principal component analysis (PCA) to draw conclusions about the underlying structure of the wholesale customer data. Since using PCA on a dataset calculates the dimensions which best maximize variance, we will find which compound combinations of features best describe customers."
   ]
  },
  {
   "cell_type": "markdown",
   "metadata": {},
   "source": [
    "### Implementation: PCA\n",
    "\n",
    "Now that the data has been scaled to a more normal distribution and has had any necessary outliers removed, we can now apply PCA to the `good_data` to discover which dimensions about the data best maximize the variance of features involved. In addition to finding these dimensions, PCA will also report the *explained variance ratio* of each dimension — how much variance within the data is explained by that dimension alone. Note that a component (dimension) from PCA can be considered a new \"feature\" of the space, however it is a composition of the original features present in the data.\n",
    "\n",
    "In the code block below, you will need to implement the following:\n",
    " - Import `sklearn.decomposition.PCA` and assign the results of fitting PCA in **six dimensions** with `good_data` to `pca`.\n",
    " - Apply a PCA transformation of `log_samples` using `pca.transform`, and assign the results to `pca_samples`."
   ]
  },
  {
   "cell_type": "code",
   "execution_count": 127,
   "metadata": {},
   "outputs": [
    {
     "name": "stdout",
     "output_type": "stream",
     "text": [
      "PCA(copy=True, iterated_power='auto', n_components=6, random_state=None,\n",
      "  svd_solver='auto', tol=0.0, whiten=False)\n",
      "       Fresh      Milk   Grocery    Frozen  Detergents_Paper  Delicatessen\n",
      "0   9.446913  9.175335  8.930759  5.365976          7.891331      7.198931\n",
      "1   8.861775  9.191158  9.166179  7.474205          8.099554      7.482119\n",
      "2  10.026369  8.596004  8.881558  8.272571          7.482682      8.553525\n"
     ]
    },
    {
     "data": {
      "text/html": [
       "<div>\n",
       "<style>\n",
       "    .dataframe thead tr:only-child th {\n",
       "        text-align: right;\n",
       "    }\n",
       "\n",
       "    .dataframe thead th {\n",
       "        text-align: left;\n",
       "    }\n",
       "\n",
       "    .dataframe tbody tr th {\n",
       "        vertical-align: top;\n",
       "    }\n",
       "</style>\n",
       "<table border=\"1\" class=\"dataframe\">\n",
       "  <thead>\n",
       "    <tr style=\"text-align: right;\">\n",
       "      <th></th>\n",
       "      <th>Explained Variance</th>\n",
       "      <th>Fresh</th>\n",
       "      <th>Milk</th>\n",
       "      <th>Grocery</th>\n",
       "      <th>Frozen</th>\n",
       "      <th>Detergents_Paper</th>\n",
       "      <th>Delicatessen</th>\n",
       "    </tr>\n",
       "  </thead>\n",
       "  <tbody>\n",
       "    <tr>\n",
       "      <th>Dimension 1</th>\n",
       "      <td>0.4438</td>\n",
       "      <td>0.2214</td>\n",
       "      <td>-0.3789</td>\n",
       "      <td>-0.4479</td>\n",
       "      <td>0.2132</td>\n",
       "      <td>-0.7410</td>\n",
       "      <td>-0.1113</td>\n",
       "    </tr>\n",
       "    <tr>\n",
       "      <th>Dimension 2</th>\n",
       "      <td>0.7147</td>\n",
       "      <td>-0.4561</td>\n",
       "      <td>-0.5658</td>\n",
       "      <td>-0.5510</td>\n",
       "      <td>-0.2507</td>\n",
       "      <td>-0.8409</td>\n",
       "      <td>-0.6311</td>\n",
       "    </tr>\n",
       "    <tr>\n",
       "      <th>Dimension 3</th>\n",
       "      <td>0.8340</td>\n",
       "      <td>-1.1225</td>\n",
       "      <td>-0.5310</td>\n",
       "      <td>-0.5819</td>\n",
       "      <td>0.0278</td>\n",
       "      <td>-1.0574</td>\n",
       "      <td>0.0241</td>\n",
       "    </tr>\n",
       "    <tr>\n",
       "      <th>Dimension 4</th>\n",
       "      <td>0.9295</td>\n",
       "      <td>-1.3393</td>\n",
       "      <td>-0.5044</td>\n",
       "      <td>-0.5051</td>\n",
       "      <td>0.8400</td>\n",
       "      <td>-0.8730</td>\n",
       "      <td>-0.4785</td>\n",
       "    </tr>\n",
       "    <tr>\n",
       "      <th>Dimension 5</th>\n",
       "      <td>0.9764</td>\n",
       "      <td>-1.3360</td>\n",
       "      <td>0.2206</td>\n",
       "      <td>-0.1586</td>\n",
       "      <td>0.7967</td>\n",
       "      <td>-1.4366</td>\n",
       "      <td>-0.6652</td>\n",
       "    </tr>\n",
       "    <tr>\n",
       "      <th>Dimension 6</th>\n",
       "      <td>0.9999</td>\n",
       "      <td>-1.3657</td>\n",
       "      <td>0.7628</td>\n",
       "      <td>-0.9721</td>\n",
       "      <td>0.7858</td>\n",
       "      <td>-1.2304</td>\n",
       "      <td>-0.6899</td>\n",
       "    </tr>\n",
       "  </tbody>\n",
       "</table>\n",
       "</div>"
      ],
      "text/plain": [
       "             Explained Variance   Fresh    Milk  Grocery  Frozen  \\\n",
       "Dimension 1              0.4438  0.2214 -0.3789  -0.4479  0.2132   \n",
       "Dimension 2              0.7147 -0.4561 -0.5658  -0.5510 -0.2507   \n",
       "Dimension 3              0.8340 -1.1225 -0.5310  -0.5819  0.0278   \n",
       "Dimension 4              0.9295 -1.3393 -0.5044  -0.5051  0.8400   \n",
       "Dimension 5              0.9764 -1.3360  0.2206  -0.1586  0.7967   \n",
       "Dimension 6              0.9999 -1.3657  0.7628  -0.9721  0.7858   \n",
       "\n",
       "             Detergents_Paper  Delicatessen  \n",
       "Dimension 1           -0.7410       -0.1113  \n",
       "Dimension 2           -0.8409       -0.6311  \n",
       "Dimension 3           -1.0574        0.0241  \n",
       "Dimension 4           -0.8730       -0.4785  \n",
       "Dimension 5           -1.4366       -0.6652  \n",
       "Dimension 6           -1.2304       -0.6899  "
      ]
     },
     "metadata": {},
     "output_type": "display_data"
    },
    {
     "data": {
      "image/png": "[encoded data removed]",
      "text/plain": [
       "<matplotlib.figure.Figure at 0x127be02d0>"
      ]
     },
     "metadata": {},
     "output_type": "display_data"
    }
   ],
   "source": [
    "# I referenced the below page for this section\n",
    "# http://scikit-learn.org/stable/modules/generated/sklearn.decomposition.PCA.html\n",
    "\n",
    "from sklearn.decomposition import PCA\n",
    "\n",
    "# TODO: Apply PCA by fitting the good data with the same number of dimensions as features\n",
    "pca = PCA(n_components=6)\n",
    "print(pca)\n",
    "# Below: just making 100% sure my dimensions=features\n",
    "print log_samples\n",
    "# TODO: Transform log_samples using the PCA fit above\n",
    "# FIXED AFTER FIRST REVIEW\n",
    "pca.fit(good_data)\n",
    "pca_samples = pca.transform(log_samples)\n",
    "# Generate PCA results plot\n",
    "pca_results = vs.pca_results(good_data, pca)\n",
    "# after 4 days of trying to answer the next question set, I found this:\n",
    "display(pca_results.cumsum())"
   ]
  },
  {
   "cell_type": "markdown",
   "metadata": {},
   "source": [
    "### Question 5\n",
    "\n",
    "* How much variance in the data is explained* **in total** *by the first and second principal component? \n",
    "* How much variance in the data is explained by the first four principal components? \n",
    "* Using the visualization provided above, talk about each dimension and the cumulative variance explained by each, stressing upon which features are well represented by each dimension(both in terms of positive and negative variance explained). Discuss what the first four dimensions best represent in terms of customer spending.\n",
    "\n",
    "**Hint:** A positive increase in a specific dimension corresponds with an *increase* of the *positive-weighted* features and a *decrease* of the *negative-weighted* features. The rate of increase or decrease is based on the individual feature weights."
   ]
  },
  {
   "cell_type": "markdown",
   "metadata": {},
   "source": [
    "**Answer:**\n",
    "\n",
    "*How much variance in the data is explained in total by the first and second principal component?*\n",
    "\n",
    "71%\n",
    "\n",
    "*How much variance in the data is explained by the first four principal components?*\n",
    "\n",
    "93%\n",
    "\n",
    "*Using the visualization provided above, talk about each dimension and the cumulative variance explained by each, stressing upon which features are well represented by each dimension(both in terms of positive and negative variance explained). Discuss what the first four dimensions best represent in terms of customer spending.*\n",
    "\n",
    "*Talk about each dimension:\n",
    "\n",
    "*Discuss 1st 4 dimensions:\n",
    "\n",
    "Dimension1: \n",
    "\n",
    "Dimension2:\n",
    "\n",
    "Dimension3:\n",
    "\n",
    "Dimension4:"
   ]
  },
  {
   "cell_type": "markdown",
   "metadata": {},
   "source": [
    "### Observation\n",
    "Run the code below to see how the log-transformed sample data has changed after having a PCA transformation applied to it in six dimensions. Observe the numerical value for the first four dimensions of the sample points. Consider if this is consistent with your initial interpretation of the sample points."
   ]
  },
  {
   "cell_type": "code",
   "execution_count": 128,
   "metadata": {},
   "outputs": [
    {
     "data": {
      "text/html": [
       "<div>\n",
       "<style>\n",
       "    .dataframe thead tr:only-child th {\n",
       "        text-align: right;\n",
       "    }\n",
       "\n",
       "    .dataframe thead th {\n",
       "        text-align: left;\n",
       "    }\n",
       "\n",
       "    .dataframe tbody tr th {\n",
       "        vertical-align: top;\n",
       "    }\n",
       "</style>\n",
       "<table border=\"1\" class=\"dataframe\">\n",
       "  <thead>\n",
       "    <tr style=\"text-align: right;\">\n",
       "      <th></th>\n",
       "      <th>Dimension 1</th>\n",
       "      <th>Dimension 2</th>\n",
       "      <th>Dimension 3</th>\n",
       "      <th>Dimension 4</th>\n",
       "      <th>Dimension 5</th>\n",
       "      <th>Dimension 6</th>\n",
       "    </tr>\n",
       "  </thead>\n",
       "  <tbody>\n",
       "    <tr>\n",
       "      <th>0</th>\n",
       "      <td>-1.7263</td>\n",
       "      <td>-0.1942</td>\n",
       "      <td>-0.8859</td>\n",
       "      <td>-1.7358</td>\n",
       "      <td>0.2967</td>\n",
       "      <td>0.3856</td>\n",
       "    </tr>\n",
       "    <tr>\n",
       "      <th>1</th>\n",
       "      <td>-1.7036</td>\n",
       "      <td>-0.9711</td>\n",
       "      <td>0.2250</td>\n",
       "      <td>0.0180</td>\n",
       "      <td>0.1264</td>\n",
       "      <td>0.2331</td>\n",
       "    </tr>\n",
       "    <tr>\n",
       "      <th>2</th>\n",
       "      <td>-0.5847</td>\n",
       "      <td>-2.4852</td>\n",
       "      <td>0.4950</td>\n",
       "      <td>-0.2761</td>\n",
       "      <td>-0.2868</td>\n",
       "      <td>-0.0551</td>\n",
       "    </tr>\n",
       "  </tbody>\n",
       "</table>\n",
       "</div>"
      ],
      "text/plain": [
       "   Dimension 1  Dimension 2  Dimension 3  Dimension 4  Dimension 5  \\\n",
       "0      -1.7263      -0.1942      -0.8859      -1.7358       0.2967   \n",
       "1      -1.7036      -0.9711       0.2250       0.0180       0.1264   \n",
       "2      -0.5847      -2.4852       0.4950      -0.2761      -0.2868   \n",
       "\n",
       "   Dimension 6  \n",
       "0       0.3856  \n",
       "1       0.2331  \n",
       "2      -0.0551  "
      ]
     },
     "metadata": {},
     "output_type": "display_data"
    }
   ],
   "source": [
    "# I had this fail repeatedly until I realized I needed to use pca.fit_transform instead\n",
    "# of just pca.fit \n",
    "# I assume Udacity intentionally misleads us by using this term: pca.transform in the\n",
    "# implementation PCA to make the student figure it out.\n",
    "\n",
    "# Display sample log-data after having a PCA transformation applied\n",
    "display(pd.DataFrame(np.round(pca_samples, 4), columns = pca_results.index.values))"
   ]
  },
  {
   "cell_type": "markdown",
   "metadata": {},
   "source": [
    "### Implementation: Dimensionality Reduction\n",
    "When using principal component analysis, one of the main goals is to reduce the dimensionality of the data — in effect, reducing the complexity of the problem. Dimensionality reduction comes at a cost: Fewer dimensions used implies less of the total variance in the data is being explained. Because of this, the *cumulative explained variance ratio* is extremely important for knowing how many dimensions are necessary for the problem. Additionally, if a signifiant amount of variance is explained by only two or three dimensions, the reduced data can be visualized afterwards.\n",
    "\n",
    "In the code block below, you will need to implement the following:\n",
    " - Assign the results of fitting PCA in two dimensions with `good_data` to `pca`.\n",
    " - Apply a PCA transformation of `good_data` using `pca.transform`, and assign the results to `reduced_data`.\n",
    " - Apply a PCA transformation of `log_samples` using `pca.transform`, and assign the results to `pca_samples`."
   ]
  },
  {
   "cell_type": "code",
   "execution_count": 129,
   "metadata": {
    "collapsed": true
   },
   "outputs": [],
   "source": [
    "# TODO: Apply PCA by fitting the good data with only two dimensions\n",
    "pca = PCA(n_components=2)\n",
    "\n",
    "# TODO: Transform the good data using the PCA fit above\n",
    "reduced_data = pca.fit_transform(good_data)\n",
    "\n",
    "# TODO: Transform log_samples using the PCA fit above\n",
    "pca_samples = pca.transform(log_samples)\n",
    "\n",
    "# Create a DataFrame for the reduced data\n",
    "reduced_data = pd.DataFrame(reduced_data, columns = ['Dimension 1', 'Dimension 2'])"
   ]
  },
  {
   "cell_type": "markdown",
   "metadata": {},
   "source": [
    "### Observation\n",
    "Run the code below to see how the log-transformed sample data has changed after having a PCA transformation applied to it using only two dimensions. Observe how the values for the first two dimensions remains unchanged when compared to a PCA transformation in six dimensions."
   ]
  },
  {
   "cell_type": "code",
   "execution_count": 130,
   "metadata": {},
   "outputs": [
    {
     "data": {
      "text/html": [
       "<div>\n",
       "<style>\n",
       "    .dataframe thead tr:only-child th {\n",
       "        text-align: right;\n",
       "    }\n",
       "\n",
       "    .dataframe thead th {\n",
       "        text-align: left;\n",
       "    }\n",
       "\n",
       "    .dataframe tbody tr th {\n",
       "        vertical-align: top;\n",
       "    }\n",
       "</style>\n",
       "<table border=\"1\" class=\"dataframe\">\n",
       "  <thead>\n",
       "    <tr style=\"text-align: right;\">\n",
       "      <th></th>\n",
       "      <th>Dimension 1</th>\n",
       "      <th>Dimension 2</th>\n",
       "    </tr>\n",
       "  </thead>\n",
       "  <tbody>\n",
       "    <tr>\n",
       "      <th>0</th>\n",
       "      <td>-1.7263</td>\n",
       "      <td>-0.1942</td>\n",
       "    </tr>\n",
       "    <tr>\n",
       "      <th>1</th>\n",
       "      <td>-1.7036</td>\n",
       "      <td>-0.9711</td>\n",
       "    </tr>\n",
       "    <tr>\n",
       "      <th>2</th>\n",
       "      <td>-0.5847</td>\n",
       "      <td>-2.4852</td>\n",
       "    </tr>\n",
       "  </tbody>\n",
       "</table>\n",
       "</div>"
      ],
      "text/plain": [
       "   Dimension 1  Dimension 2\n",
       "0      -1.7263      -0.1942\n",
       "1      -1.7036      -0.9711\n",
       "2      -0.5847      -2.4852"
      ]
     },
     "metadata": {},
     "output_type": "display_data"
    }
   ],
   "source": [
    "# Display sample log-data after applying PCA transformation in two dimensions\n",
    "display(pd.DataFrame(np.round(pca_samples, 4), columns = ['Dimension 1', 'Dimension 2']))"
   ]
  },
  {
   "cell_type": "markdown",
   "metadata": {},
   "source": [
    "## Visualizing a Biplot\n",
    "A biplot is a scatterplot where each data point is represented by its scores along the principal components. The axes are the principal components (in this case `Dimension 1` and `Dimension 2`). In addition, the biplot shows the projection of the original features along the components. A biplot can help us interpret the reduced dimensions of the data, and discover relationships between the principal components and original features.\n",
    "\n",
    "Run the code cell below to produce a biplot of the reduced-dimension data."
   ]
  },
  {
   "cell_type": "code",
   "execution_count": 131,
   "metadata": {},
   "outputs": [
    {
     "data": {
      "text/plain": [
       "<matplotlib.axes._subplots.AxesSubplot at 0x127da9fd0>"
      ]
     },
     "execution_count": 131,
     "metadata": {},
     "output_type": "execute_result"
    },
    {
     "data": {
      "image/png": "[encoded data removed]",
      "text/plain": [
       "<matplotlib.figure.Figure at 0x127dbeb50>"
      ]
     },
     "metadata": {},
     "output_type": "display_data"
    }
   ],
   "source": [
    "# Create a biplot\n",
    "vs.biplot(good_data, reduced_data, pca)"
   ]
  },
  {
   "cell_type": "markdown",
   "metadata": {},
   "source": [
    "### Observation\n",
    "\n",
    "Once we have the original feature projections (in red), it is easier to interpret the relative position of each data point in the scatterplot. For instance, a point the lower right corner of the figure will likely correspond to a customer that spends a lot on `'Milk'`, `'Grocery'` and `'Detergents_Paper'`, but not so much on the other product categories. \n",
    "\n",
    "From the biplot, which of the original features are most strongly correlated with the first component? What about those that are associated with the second component? Do these observations agree with the pca_results plot you obtained earlier?"
   ]
  },
  {
   "cell_type": "markdown",
   "metadata": {},
   "source": [
    "## Clustering\n",
    "\n",
    "In this section, you will choose to use either a K-Means clustering algorithm or a Gaussian Mixture Model clustering algorithm to identify the various customer segments hidden in the data. You will then recover specific data points from the clusters to understand their significance by transforming them back into their original dimension and scale. "
   ]
  },
  {
   "cell_type": "markdown",
   "metadata": {},
   "source": [
    "### Question 6\n",
    "\n",
    "* What are the advantages to using a K-Means clustering algorithm? \n",
    "\n",
    "* What are the advantages to using a Gaussian Mixture Model clustering algorithm? \n",
    "* Given your observations about the wholesale customer data so far, which of the two algorithms will you use and why?\n",
    "\n",
    "** Hint: ** Think about the differences between hard clustering and soft clustering and which would be appropriate for our dataset."
   ]
  },
  {
   "cell_type": "markdown",
   "metadata": {},
   "source": [
    "**Answer:**\n",
    "\n",
    "What are the advantages to using a K-Means clustering algorithm?\n",
    "\n",
    "K-Means can give tight (distinct) clusters and can be computationally faster than other clustering algorithms. Speed isn't an advantage in a project like this, however.\n",
    "\n",
    "What are the advantages to using a Gaussian Mixture Model clustering algorithm?\n",
    "\n",
    "GMM is a great clusterer for tasks with a large number of potential categories - like topic identification in newspaper data, and that is it's advantage. Our data appears to represent a small group of distinct business types, and the business type options could\n",
    "\n",
    "Given your observations about the wholesale customer data so far, which of the two algorithms will you use and why? K-means, because GMM seems like the absolute wrong model. \n",
    "\n",
    "* Revised Answer *\n",
    "\n",
    "*Could you please be a little more specific while justifying your decision to use KMeans? What aspect of the data distribution supports the choice of KMeans over GMM?\n",
    "\n",
    "Honestly, I can't see from the above distribution how the data supports using K-Means. It's only after we start to focus on customer segments, and the problem becomes binary, that using K-Means is revealed to be the right choice. To me anyway...\n",
    "\n",
    "\n",
    "*Could you also talk about on one of the main differences between the two algorithms: soft v/s hard clustering.\n",
    "\n",
    "Soft clustering identifies the likelihood of a data point being in a specific cluster. In that regard, it sort of complements K-Means' cluster shape 'rigidity', in that the data point can fall outside the cluster, but still be associated with that cluster. I hope I said that right."
   ]
  },
  {
   "cell_type": "markdown",
   "metadata": {},
   "source": [
    "### Implementation: Creating Clusters\n",
    "Depending on the problem, the number of clusters that you expect to be in the data may already be known. When the number of clusters is not known *a priori*, there is no guarantee that a given number of clusters best segments the data, since it is unclear what structure exists in the data — if any. However, we can quantify the \"goodness\" of a clustering by calculating each data point's *silhouette coefficient*. The [silhouette coefficient](http://scikit-learn.org/stable/modules/generated/sklearn.metrics.silhouette_score.html) for a data point measures how similar it is to its assigned cluster from -1 (dissimilar) to 1 (similar). Calculating the *mean* silhouette coefficient provides for a simple scoring method of a given clustering.\n",
    "\n",
    "In the code block below, you will need to implement the following:\n",
    " - Fit a clustering algorithm to the `reduced_data` and assign it to `clusterer`.\n",
    " - Predict the cluster for each data point in `reduced_data` using `clusterer.predict` and assign them to `preds`.\n",
    " - Find the cluster centers using the algorithm's respective attribute and assign them to `centers`.\n",
    " - Predict the cluster for each sample data point in `pca_samples` and assign them `sample_preds`.\n",
    " - Import `sklearn.metrics.silhouette_score` and calculate the silhouette score of `reduced_data` against `preds`.\n",
    "   - Assign the silhouette score to `score` and print the result."
   ]
  },
  {
   "cell_type": "code",
   "execution_count": 137,
   "metadata": {},
   "outputs": [
    {
     "name": "stdout",
     "output_type": "stream",
     "text": [
      "0.423247387005\n"
     ]
    }
   ],
   "source": [
    "from sklearn.cluster import KMeans\n",
    "from sklearn import metrics\n",
    "\n",
    "# TODO: Apply your clustering algorithm of choice to the reduced data \n",
    "# Relevant Question: Report the silhouette score for several cluster numbers you tried.\n",
    "clusterer = KMeans(n_clusters=2, random_state=0).fit(reduced_data)\n",
    "\n",
    "# TODO: Predict the cluster for each data point\n",
    "preds = clusterer.predict(reduced_data)\n",
    "\n",
    "# TODO: Find the cluster centers\n",
    "# the below link helped\n",
    "# https://jakevdp.github.io/PythonDataScienceHandbook/05.11-k-means.html\n",
    "centers = clusterer.cluster_centers_\n",
    "\n",
    "# TODO: Predict the cluster for each transformed sample data point\n",
    "# Is this pca_samples????? \n",
    "sample_preds = clusterer.predict(pca_samples)\n",
    "\n",
    "# TODO: Calculate the mean silhouette coefficient for the number of clusters chosen\n",
    "labels = clusterer.labels_\n",
    "score = metrics.silhouette_score(reduced_data, labels)\n",
    "print score\n"
   ]
  },
  {
   "cell_type": "markdown",
   "metadata": {},
   "source": [
    "### Question 7\n",
    "\n",
    "* Report the silhouette score for several cluster numbers you tried. \n",
    "\n",
    "* Of these, which number of clusters has the best silhouette score?\n"
   ]
  },
  {
   "cell_type": "markdown",
   "metadata": {},
   "source": [
    "**Answer:**\n",
    "Clusters = 2 then silhouette score = 0.4232 Clusters = 4 then silhouette score = 0.3301 Clusters = 6 then silhouette score = 0.3508\n",
    "\n",
    "** Revised Answer 1 **\n",
    "I explored setting the clusters to 3, as suggested in the project feedback. The Silhouette Score for Clustes=3 is .3985 - this does reinforce the original answer.\n",
    "\n",
    "Best silhouette score? 2"
   ]
  },
  {
   "cell_type": "markdown",
   "metadata": {},
   "source": [
    "### Cluster Visualization\n",
    "Once you've chosen the optimal number of clusters for your clustering algorithm using the scoring metric above, you can now visualize the results by executing the code block below. Note that, for experimentation purposes, you are welcome to adjust the number of clusters for your clustering algorithm to see various visualizations. The final visualization provided should, however, correspond with the optimal number of clusters. "
   ]
  },
  {
   "cell_type": "code",
   "execution_count": 138,
   "metadata": {},
   "outputs": [
    {
     "data": {
      "image/png": "[encoded data removed]",
      "text/plain": [
       "<matplotlib.figure.Figure at 0x1256ed310>"
      ]
     },
     "metadata": {},
     "output_type": "display_data"
    }
   ],
   "source": [
    "# Display the results of the clustering from implementation\n",
    "vs.cluster_results(reduced_data, preds, centers, pca_samples)"
   ]
  },
  {
   "cell_type": "markdown",
   "metadata": {},
   "source": [
    "### Implementation: Data Recovery\n",
    "Each cluster present in the visualization above has a central point. These centers (or means) are not specifically data points from the data, but rather the *averages* of all the data points predicted in the respective clusters. For the problem of creating customer segments, a cluster's center point corresponds to *the average customer of that segment*. Since the data is currently reduced in dimension and scaled by a logarithm, we can recover the representative customer spending from these data points by applying the inverse transformations.\n",
    "\n",
    "In the code block below, you will need to implement the following:\n",
    " - Apply the inverse transform to `centers` using `pca.inverse_transform` and assign the new centers to `log_centers`.\n",
    " - Apply the inverse function of `np.log` to `log_centers` using `np.exp` and assign the true centers to `true_centers`.\n"
   ]
  },
  {
   "cell_type": "code",
   "execution_count": 139,
   "metadata": {},
   "outputs": [
    {
     "data": {
      "text/html": [
       "<div>\n",
       "<style>\n",
       "    .dataframe thead tr:only-child th {\n",
       "        text-align: right;\n",
       "    }\n",
       "\n",
       "    .dataframe thead th {\n",
       "        text-align: left;\n",
       "    }\n",
       "\n",
       "    .dataframe tbody tr th {\n",
       "        vertical-align: top;\n",
       "    }\n",
       "</style>\n",
       "<table border=\"1\" class=\"dataframe\">\n",
       "  <thead>\n",
       "    <tr style=\"text-align: right;\">\n",
       "      <th></th>\n",
       "      <th>Fresh</th>\n",
       "      <th>Milk</th>\n",
       "      <th>Grocery</th>\n",
       "      <th>Frozen</th>\n",
       "      <th>Detergents_Paper</th>\n",
       "      <th>Delicatessen</th>\n",
       "    </tr>\n",
       "  </thead>\n",
       "  <tbody>\n",
       "    <tr>\n",
       "      <th>Segment 0</th>\n",
       "      <td>9168.0</td>\n",
       "      <td>1960.0</td>\n",
       "      <td>2410.0</td>\n",
       "      <td>2148.0</td>\n",
       "      <td>299.0</td>\n",
       "      <td>698.0</td>\n",
       "    </tr>\n",
       "    <tr>\n",
       "      <th>Segment 1</th>\n",
       "      <td>3568.0</td>\n",
       "      <td>7756.0</td>\n",
       "      <td>12509.0</td>\n",
       "      <td>895.0</td>\n",
       "      <td>4616.0</td>\n",
       "      <td>963.0</td>\n",
       "    </tr>\n",
       "  </tbody>\n",
       "</table>\n",
       "</div>"
      ],
      "text/plain": [
       "            Fresh    Milk  Grocery  Frozen  Detergents_Paper  Delicatessen\n",
       "Segment 0  9168.0  1960.0   2410.0  2148.0             299.0         698.0\n",
       "Segment 1  3568.0  7756.0  12509.0   895.0            4616.0         963.0"
      ]
     },
     "metadata": {},
     "output_type": "display_data"
    }
   ],
   "source": [
    "# TODO: Inverse transform the centers\n",
    "log_centers = pca.inverse_transform(centers)\n",
    "\n",
    "# TODO: Exponentiate the centers\n",
    "true_centers = np.exp(log_centers)\n",
    "\n",
    "# Display the true centers\n",
    "segments = ['Segment {}'.format(i) for i in range(0,len(centers))]\n",
    "true_centers = pd.DataFrame(np.round(true_centers), columns = data.keys())\n",
    "true_centers.index = segments\n",
    "display(true_centers)"
   ]
  },
  {
   "cell_type": "markdown",
   "metadata": {},
   "source": [
    "### Question 8\n",
    "\n",
    "* Consider the total purchase cost of each product category for the representative data points above, and reference the statistical description of the dataset at the beginning of this project(specifically looking at the mean values for the various feature points). What set of establishments could each of the customer segments represent?\n",
    "\n",
    "**Hint:** A customer who is assigned to `'Cluster X'` should best identify with the establishments represented by the feature set of `'Segment X'`. Think about what each segment represents in terms their values for the feature points chosen. Reference these values with the mean values to get some perspective into what kind of establishment they represent."
   ]
  },
  {
   "cell_type": "markdown",
   "metadata": {},
   "source": [
    "**Answer:**\n",
    "\n",
    "*What set of establishments could each of the customer segments represent?\n",
    "\n",
    "Segment 0 has a disproportionate share of Fresh vs all other features. This leads me to believe that it is a set of traditional, sit down restaurants which serve fresh foods mostly. The large Frozen number could certainly be the dessert side of the restaurant business. \n",
    "\n",
    "Segment 1 has a disproportionate amount of Milk, Grocery, and Detergents_Paper, and very little Frozen. These combinations remind me of a Convenience Store (at least in the US), where people will get frequently needed basic Grocery Store items while refueling."
   ]
  },
  {
   "cell_type": "markdown",
   "metadata": {},
   "source": [
    "### Question 9\n",
    "\n",
    "* For each sample point, which customer segment from* **Question 8** *best represents it? \n",
    "* Are the predictions for each sample point consistent with this?*\n",
    "\n",
    "Run the code block below to find which cluster each sample point is predicted to be."
   ]
  },
  {
   "cell_type": "code",
   "execution_count": 140,
   "metadata": {},
   "outputs": [
    {
     "name": "stdout",
     "output_type": "stream",
     "text": [
      "Sample point 0 predicted to be in Cluster 1\n",
      "Sample point 1 predicted to be in Cluster 1\n",
      "Sample point 2 predicted to be in Cluster 1\n"
     ]
    }
   ],
   "source": [
    "# Display the predictions\n",
    "for i, pred in enumerate(sample_preds):\n",
    "    print \"Sample point\", i, \"predicted to be in Cluster\", pred"
   ]
  },
  {
   "cell_type": "markdown",
   "metadata": {},
   "source": [
    "**Answer:**\n",
    "\n",
    "**For each sample point, which customer segment from Question 8 best represents it?**\n",
    "\n",
    "Segment 1.\n",
    "\n",
    "**Are the predictions for each sample point consistent with this?**\n",
    "\n",
    "Yes! The biplot way above supports this."
   ]
  },
  {
   "cell_type": "markdown",
   "metadata": {},
   "source": [
    "## Conclusion"
   ]
  },
  {
   "cell_type": "markdown",
   "metadata": {},
   "source": [
    "In this final section, you will investigate ways that you can make use of the clustered data. First, you will consider how the different groups of customers, the ***customer segments***, may be affected differently by a specific delivery scheme. Next, you will consider how giving a label to each customer (which *segment* that customer belongs to) can provide for additional features about the customer data. Finally, you will compare the ***customer segments*** to a hidden variable present in the data, to see whether the clustering identified certain relationships."
   ]
  },
  {
   "cell_type": "markdown",
   "metadata": {
    "collapsed": true
   },
   "source": [
    "### Question 10\n",
    "Companies will often run [A/B tests](https://en.wikipedia.org/wiki/A/B_testing) when making small changes to their products or services to determine whether making that change will affect its customers positively or negatively. The wholesale distributor is considering changing its delivery service from currently 5 days a week to 3 days a week. However, the distributor will only make this change in delivery service for customers that react positively. \n",
    "\n",
    "* How can the wholesale distributor use the customer segments to determine which customers, if any, would react positively to the change in delivery service?*\n",
    "\n",
    "**Hint:** Can we assume the change affects all customers equally? How can we determine which group of customers it affects the most?"
   ]
  },
  {
   "cell_type": "markdown",
   "metadata": {},
   "source": [
    "**Answer:**\n",
    "\n",
    "By applying the above machine learning techniques, and determining two major customer groups, the company can apply logic to their delivery service. For example, Fresh products are distinctly important to Segment 0. You can therefore derive that this group may not react well to not having daily delivery. As a result, a manager may determine that it is more cost effective to split Segment 0 and 1 into two separate delivery trucks. Segment 0, dependent on Fresh being fresh, could be a smaller truck delivering to a smaller group of customers, but on every day. Whereas Segment 1 could accept not getting truly fresh Fresh products, enabling the company to deliver 3 days a week to Segment 1."
   ]
  },
  {
   "cell_type": "markdown",
   "metadata": {},
   "source": [
    "### Question 11\n",
    "Additional structure is derived from originally unlabeled data when using clustering techniques. Since each customer has a ***customer segment*** it best identifies with (depending on the clustering algorithm applied), we can consider *'customer segment'* as an **engineered feature** for the data. Assume the wholesale distributor recently acquired ten new customers and each provided estimates for anticipated annual spending of each product category. Knowing these estimates, the wholesale distributor wants to classify each new customer to a ***customer segment*** to determine the most appropriate delivery service.  \n",
    "* How can the wholesale distributor label the new customers using only their estimated product spending and the **customer segment** data?\n",
    "\n",
    "**Hint:** A supervised learner could be used to train on the original customers. What would be the target variable?"
   ]
  },
  {
   "cell_type": "markdown",
   "metadata": {},
   "source": [
    "**Answer:**\n",
    "\n",
    "Expanding on Answer #8, the distributer could likely label Segment 0 as Traditional Restaurant and Segment 1 as Convenience Store."
   ]
  },
  {
   "cell_type": "markdown",
   "metadata": {},
   "source": [
    "### Visualizing Underlying Distributions\n",
    "\n",
    "At the beginning of this project, it was discussed that the `'Channel'` and `'Region'` features would be excluded from the dataset so that the customer product categories were emphasized in the analysis. By reintroducing the `'Channel'` feature to the dataset, an interesting structure emerges when considering the same PCA dimensionality reduction applied earlier to the original dataset.\n",
    "\n",
    "Run the code block below to see how each data point is labeled either `'HoReCa'` (Hotel/Restaurant/Cafe) or `'Retail'` the reduced space. In addition, you will find the sample points are circled in the plot, which will identify their labeling."
   ]
  },
  {
   "cell_type": "code",
   "execution_count": 141,
   "metadata": {
    "scrolled": false
   },
   "outputs": [
    {
     "data": {
      "image/png": "[encoded data removed]",
      "text/plain": [
       "<matplotlib.figure.Figure at 0x12623a9d0>"
      ]
     },
     "metadata": {},
     "output_type": "display_data"
    }
   ],
   "source": [
    "# Display the clustering results based on 'Channel' data\n",
    "vs.channel_results(reduced_data, outliers, pca_samples)"
   ]
  },
  {
   "cell_type": "markdown",
   "metadata": {},
   "source": [
    "### Question 12\n",
    "\n",
    "* How well does the clustering algorithm and number of clusters you've chosen compare to this underlying distribution of Hotel/Restaurant/Cafe customers to Retailer customers? \n",
    "* Are there customer segments that would be classified as purely 'Retailers' or 'Hotels/Restaurants/Cafes' by this distribution? \n",
    "* Would you consider these classifications as consistent with your previous definition of the customer segments?"
   ]
  },
  {
   "cell_type": "markdown",
   "metadata": {},
   "source": [
    "**Answer:**\n",
    "\n",
    "* How well does the clustering algorithm and number of clusters you've chosen compare to this underlying distribution of Hotel/Restaurant/Cafe customers to Retailer customers? \n",
    "\n",
    "K-Means with two clusters nails this task perfectly in my opinion.\n",
    "\n",
    "* Are there customer segments that would be classified as purely 'Retailers' or 'Hotels/Restaurants/Cafes' by this distribution? \n",
    "\n",
    "I think so - Retailers correllates to Segment 1, which I called 'Convenience Store'. Basically two different ways of saying the same thing.\n",
    "\n",
    "Hotels/Restaurants/Cafes aligns well with my suggested label for Segment 0 - 'Traditional Restaurant.\n",
    "\n",
    "\n",
    "* Would you consider these classifications as consistent with your previous definition of the customer segments?\n",
    "\n",
    "Absolutely. Thankfully!\n",
    "\n"
   ]
  },
  {
   "cell_type": "markdown",
   "metadata": {},
   "source": [
    "> **Note**: Once you have completed all of the code implementations and successfully answered each question above, you may finalize your work by exporting the iPython Notebook as an HTML document. You can do this by using the menu above and navigating to  \n",
    "**File -> Download as -> HTML (.html)**. Include the finished document along with this notebook as your submission."
   ]
  }
 ],
 "metadata": {
  "kernelspec": {
   "display_name": "Python 2",
   "language": "python",
   "name": "python2"
  },
  "language_info": {
   "codemirror_mode": {
    "name": "ipython",
    "version": 2
   },
   "file_extension": ".py",
   "mimetype": "text/x-python",
   "name": "python",
   "nbconvert_exporter": "python",
   "pygments_lexer": "ipython2",
   "version": "2.7.14"
  }
 },
 "nbformat": 4,
 "nbformat_minor": 1
}
